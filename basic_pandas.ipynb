{
 "cells": [
  {
   "cell_type": "markdown",
   "metadata": {
    "slideshow": {
     "slide_type": "slide"
    }
   },
   "source": [
    "# Pandas\n",
    "\n",
    "This notebook covers a _lot_, go through it carefully and _read_ the code. Then work on _understanding_ it. Then apply it to your data set. Then once you've done that, you'll probably _actually_ understand it.\n",
    "\n",
    "Messing about with the [NSW Penalty data](http://www.osr.nsw.gov.au/sites/default/files/file_manager/whale_stranding_in_oceania_set_0.csv)"
   ]
  },
  {
   "cell_type": "code",
   "execution_count": 69,
   "metadata": {},
   "outputs": [],
   "source": [
    "import matplotlib\n",
    "import matplotlib.pyplot as plt\n",
    "import numpy as np\n",
    "import pandas as pd\n",
    "import os\n",
    "import geopandas as gpd\n",
    "from datetime import datetime"
   ]
  },
  {
   "cell_type": "markdown",
   "metadata": {
    "slideshow": {
     "slide_type": "slide"
    }
   },
   "source": [
    "`imports`, you've seen this before!"
   ]
  },
  {
   "cell_type": "code",
   "execution_count": 70,
   "metadata": {
    "slideshow": {
     "slide_type": "-"
    }
   },
   "outputs": [],
   "source": [
    "%matplotlib inline"
   ]
  },
  {
   "cell_type": "markdown",
   "metadata": {},
   "source": [
    "Set the size of the plots that will come out when we ask for them. Annoyingly, these are in inches. Whatever an \"inch\" is"
   ]
  },
  {
   "cell_type": "code",
   "execution_count": 71,
   "metadata": {},
   "outputs": [],
   "source": [
    "plt.rcParams[\"figure.figsize\"] = (10, 5)\n"
   ]
  },
  {
   "cell_type": "code",
   "execution_count": 72,
   "metadata": {
    "slideshow": {
     "slide_type": "skip"
    }
   },
   "outputs": [],
   "source": [
    "saved_style_state = matplotlib.rcParams.copy()  # give us a style state to go back to\n"
   ]
  },
  {
   "cell_type": "markdown",
   "metadata": {
    "slideshow": {
     "slide_type": "slide"
    }
   },
   "source": [
    "Let's check to see if we've already downloaded the data. It's a big file, so we don't want to do it every time we run the code. Even just loading from file takes a few seconds!\n",
    "\n",
    "Pandas is pretty smart, it can get data from the internet just as easily as from the file system, it just takes a bit longer.\n"
   ]
  },
  {
   "cell_type": "code",
   "execution_count": 73,
   "metadata": {
    "slideshow": {
     "slide_type": "fragment"
    }
   },
   "outputs": [
    {
     "name": "stdout",
     "output_type": "stream",
     "text": [
      "loading from file\n",
      "done\n"
     ]
    }
   ],
   "source": [
    "if os.path.isfile(\"ocean_data.xls\"):\n",
    "    filepath = \"ocean_data.xls\"\n",
    "    print(\"loading from file\")\n",
    "else:\n",
    "    filepath = \"https://samoa-data.sprep.org/resource/strandings-oceania-database-data-export\"\n",
    "    print(\"loading from the internet\")\n",
    "\n",
    "whale_stranding_in_oceania = pd.read_excel(filepath)\n",
    "print(\"done\")\n"
   ]
  },
  {
   "cell_type": "code",
   "execution_count": 74,
   "metadata": {
    "slideshow": {
     "slide_type": "slide"
    }
   },
   "outputs": [
    {
     "data": {
      "text/html": [
       "<div>\n",
       "<style scoped>\n",
       "    .dataframe tbody tr th:only-of-type {\n",
       "        vertical-align: middle;\n",
       "    }\n",
       "\n",
       "    .dataframe tbody tr th {\n",
       "        vertical-align: top;\n",
       "    }\n",
       "\n",
       "    .dataframe thead th {\n",
       "        text-align: right;\n",
       "    }\n",
       "</style>\n",
       "<table border=\"1\" class=\"dataframe\">\n",
       "  <thead>\n",
       "    <tr style=\"text-align: right;\">\n",
       "      <th></th>\n",
       "      <th>ID</th>\n",
       "      <th>occurrenceID</th>\n",
       "      <th>decimalLatitude</th>\n",
       "      <th>decimalLongitude</th>\n",
       "      <th>verbatimLocality</th>\n",
       "      <th>country</th>\n",
       "      <th>year</th>\n",
       "      <th>month</th>\n",
       "      <th>day</th>\n",
       "      <th>submitterID</th>\n",
       "      <th>behavior</th>\n",
       "      <th>sex</th>\n",
       "      <th>lifeStage</th>\n",
       "      <th>genus</th>\n",
       "      <th>species</th>\n",
       "      <th>otherCatalogNumbers</th>\n",
       "      <th>Remarks</th>\n",
       "      <th>mediaAsset0</th>\n",
       "      <th>mediaAsset0.filePath</th>\n",
       "      <th>mediaAsset1.filePath</th>\n",
       "    </tr>\n",
       "  </thead>\n",
       "  <tbody>\n",
       "    <tr>\n",
       "      <th>0</th>\n",
       "      <td>APOD74</td>\n",
       "      <td>EC2021-01-01</td>\n",
       "      <td>-21.619902</td>\n",
       "      <td>165.454702</td>\n",
       "      <td>Bourail</td>\n",
       "      <td>New Caledonia</td>\n",
       "      <td>2021</td>\n",
       "      <td>5</td>\n",
       "      <td>29</td>\n",
       "      <td>cgarrigue</td>\n",
       "      <td>NaN</td>\n",
       "      <td>female</td>\n",
       "      <td>adult</td>\n",
       "      <td>Dugong</td>\n",
       "      <td>dugong</td>\n",
       "      <td>NaN</td>\n",
       "      <td>NaN</td>\n",
       "      <td>NaN</td>\n",
       "      <td>NaN</td>\n",
       "      <td>NaN</td>\n",
       "    </tr>\n",
       "    <tr>\n",
       "      <th>1</th>\n",
       "      <td>APOD75</td>\n",
       "      <td>862f2dfe-3cdf-4843-b704-2d718f8a190a</td>\n",
       "      <td>-13.667402</td>\n",
       "      <td>-172.417382</td>\n",
       "      <td>Savai'i</td>\n",
       "      <td>Samoa</td>\n",
       "      <td>2021</td>\n",
       "      <td>3</td>\n",
       "      <td>31</td>\n",
       "      <td>jward</td>\n",
       "      <td>Observed to be weak, however, it was reported ...</td>\n",
       "      <td>unknown</td>\n",
       "      <td>unknown</td>\n",
       "      <td>Ziphius</td>\n",
       "      <td>cavirostris</td>\n",
       "      <td>NaN</td>\n",
       "      <td>Photo provided was taken from a video on faceb...</td>\n",
       "      <td>curvier's beaked whale Palauli 2021_taken from...</td>\n",
       "      <td>/data/wildbook_data_dir/9/d/9dbd92e7-74c2-401d...</td>\n",
       "      <td>NaN</td>\n",
       "    </tr>\n",
       "    <tr>\n",
       "      <th>2</th>\n",
       "      <td>APOD46</td>\n",
       "      <td>711ae04f-50fc-4b89-b8cc-7d18ef7cf740</td>\n",
       "      <td>-18.784894</td>\n",
       "      <td>-174.65109</td>\n",
       "      <td>Late</td>\n",
       "      <td>Tonga</td>\n",
       "      <td>2019</td>\n",
       "      <td>11</td>\n",
       "      <td>18</td>\n",
       "      <td>hannahh</td>\n",
       "      <td>NaN</td>\n",
       "      <td>unknown</td>\n",
       "      <td>NaN</td>\n",
       "      <td>Balaenoptera</td>\n",
       "      <td>sp</td>\n",
       "      <td>80</td>\n",
       "      <td>Had been deceased a while potentially washed a...</td>\n",
       "      <td>80_a.jpg</td>\n",
       "      <td>/data/wildbook_data_dir/9/b/9b08bcec-e2c5-4108...</td>\n",
       "      <td>/data/wildbook_data_dir/9/b/9b08bcec-e2c5-4108...</td>\n",
       "    </tr>\n",
       "    <tr>\n",
       "      <th>3</th>\n",
       "      <td>APOD48</td>\n",
       "      <td>bc1bb165-3cc0-42be-a755-f811662ac593</td>\n",
       "      <td>-1.191931</td>\n",
       "      <td>174.722443</td>\n",
       "      <td>Tabiteuea North</td>\n",
       "      <td>Kiribati</td>\n",
       "      <td>2017</td>\n",
       "      <td>7</td>\n",
       "      <td>18</td>\n",
       "      <td>hannahh</td>\n",
       "      <td>stranded.</td>\n",
       "      <td>unknown</td>\n",
       "      <td>NaN</td>\n",
       "      <td>Stenella</td>\n",
       "      <td>longirostris</td>\n",
       "      <td>79</td>\n",
       "      <td>July 19, 2017 (RADIO KIRIBATI) ---- More than ...</td>\n",
       "      <td>79.jpg</td>\n",
       "      <td>/data/wildbook_data_dir/5/6/565f0651-5d6d-41f4...</td>\n",
       "      <td>NaN</td>\n",
       "    </tr>\n",
       "    <tr>\n",
       "      <th>4</th>\n",
       "      <td>APOD47</td>\n",
       "      <td>fccc61b3-58a8-4067-9132-1ff98a19ae4d</td>\n",
       "      <td>-1.191931</td>\n",
       "      <td>174.722443</td>\n",
       "      <td>Tabiteuea North</td>\n",
       "      <td>Kiribati</td>\n",
       "      <td>2017</td>\n",
       "      <td>7</td>\n",
       "      <td>18</td>\n",
       "      <td>NaN</td>\n",
       "      <td>stranded.</td>\n",
       "      <td>unknown</td>\n",
       "      <td>NaN</td>\n",
       "      <td>Stenella</td>\n",
       "      <td>longirostris</td>\n",
       "      <td>79</td>\n",
       "      <td>July 19, 2017 (RADIO KIRIBATI) ---- More than ...</td>\n",
       "      <td>79.jpg</td>\n",
       "      <td>/data/wildbook_data_dir/c/0/c03f0703-6c5b-48fd...</td>\n",
       "      <td>NaN</td>\n",
       "    </tr>\n",
       "  </tbody>\n",
       "</table>\n",
       "</div>"
      ],
      "text/plain": [
       "       ID                          occurrenceID  decimalLatitude  \\\n",
       "0  APOD74                          EC2021-01-01       -21.619902   \n",
       "1  APOD75  862f2dfe-3cdf-4843-b704-2d718f8a190a       -13.667402   \n",
       "2  APOD46  711ae04f-50fc-4b89-b8cc-7d18ef7cf740       -18.784894   \n",
       "3  APOD48  bc1bb165-3cc0-42be-a755-f811662ac593        -1.191931   \n",
       "4  APOD47  fccc61b3-58a8-4067-9132-1ff98a19ae4d        -1.191931   \n",
       "\n",
       "  decimalLongitude verbatimLocality        country  year  month  day  \\\n",
       "0       165.454702          Bourail  New Caledonia  2021      5   29   \n",
       "1      -172.417382          Savai'i          Samoa  2021      3   31   \n",
       "2       -174.65109             Late          Tonga  2019     11   18   \n",
       "3       174.722443  Tabiteuea North       Kiribati  2017      7   18   \n",
       "4       174.722443  Tabiteuea North       Kiribati  2017      7   18   \n",
       "\n",
       "  submitterID                                           behavior      sex  \\\n",
       "0   cgarrigue                                                NaN   female   \n",
       "1       jward  Observed to be weak, however, it was reported ...  unknown   \n",
       "2     hannahh                                                NaN  unknown   \n",
       "3     hannahh                                          stranded.  unknown   \n",
       "4         NaN                                          stranded.  unknown   \n",
       "\n",
       "  lifeStage         genus       species otherCatalogNumbers  \\\n",
       "0     adult        Dugong        dugong                 NaN   \n",
       "1   unknown       Ziphius   cavirostris                 NaN   \n",
       "2       NaN  Balaenoptera            sp                  80   \n",
       "3       NaN      Stenella  longirostris                  79   \n",
       "4       NaN      Stenella  longirostris                  79   \n",
       "\n",
       "                                             Remarks  \\\n",
       "0                                                NaN   \n",
       "1  Photo provided was taken from a video on faceb...   \n",
       "2  Had been deceased a while potentially washed a...   \n",
       "3  July 19, 2017 (RADIO KIRIBATI) ---- More than ...   \n",
       "4  July 19, 2017 (RADIO KIRIBATI) ---- More than ...   \n",
       "\n",
       "                                         mediaAsset0  \\\n",
       "0                                                NaN   \n",
       "1  curvier's beaked whale Palauli 2021_taken from...   \n",
       "2                                           80_a.jpg   \n",
       "3                                             79.jpg   \n",
       "4                                             79.jpg   \n",
       "\n",
       "                                mediaAsset0.filePath  \\\n",
       "0                                                NaN   \n",
       "1  /data/wildbook_data_dir/9/d/9dbd92e7-74c2-401d...   \n",
       "2  /data/wildbook_data_dir/9/b/9b08bcec-e2c5-4108...   \n",
       "3  /data/wildbook_data_dir/5/6/565f0651-5d6d-41f4...   \n",
       "4  /data/wildbook_data_dir/c/0/c03f0703-6c5b-48fd...   \n",
       "\n",
       "                                mediaAsset1.filePath  \n",
       "0                                                NaN  \n",
       "1                                                NaN  \n",
       "2  /data/wildbook_data_dir/9/b/9b08bcec-e2c5-4108...  \n",
       "3                                                NaN  \n",
       "4                                                NaN  "
      ]
     },
     "execution_count": 74,
     "metadata": {},
     "output_type": "execute_result"
    }
   ],
   "source": [
    "whale_stranding_in_oceania.head()\n"
   ]
  },
  {
   "cell_type": "markdown",
   "metadata": {},
   "source": [
    "`dataframe.head()` gives the top 5 rows, if it was `dataframe.head(3)` it would give the top 3 rows. \n",
    "\n",
    "`dataframe.sample(5)` gives you 5 random rows from your dataframe. It's a good way to avoid the trap where you confuse yourself the first few rows are odd."
   ]
  },
  {
   "cell_type": "code",
   "execution_count": 75,
   "metadata": {},
   "outputs": [
    {
     "data": {
      "text/html": [
       "<div>\n",
       "<style scoped>\n",
       "    .dataframe tbody tr th:only-of-type {\n",
       "        vertical-align: middle;\n",
       "    }\n",
       "\n",
       "    .dataframe tbody tr th {\n",
       "        vertical-align: top;\n",
       "    }\n",
       "\n",
       "    .dataframe thead th {\n",
       "        text-align: right;\n",
       "    }\n",
       "</style>\n",
       "<table border=\"1\" class=\"dataframe\">\n",
       "  <thead>\n",
       "    <tr style=\"text-align: right;\">\n",
       "      <th></th>\n",
       "      <th>ID</th>\n",
       "      <th>occurrenceID</th>\n",
       "      <th>decimalLatitude</th>\n",
       "      <th>decimalLongitude</th>\n",
       "      <th>verbatimLocality</th>\n",
       "      <th>country</th>\n",
       "      <th>year</th>\n",
       "      <th>month</th>\n",
       "      <th>day</th>\n",
       "      <th>submitterID</th>\n",
       "      <th>behavior</th>\n",
       "      <th>sex</th>\n",
       "      <th>lifeStage</th>\n",
       "      <th>genus</th>\n",
       "      <th>species</th>\n",
       "      <th>otherCatalogNumbers</th>\n",
       "      <th>Remarks</th>\n",
       "      <th>mediaAsset0</th>\n",
       "      <th>mediaAsset0.filePath</th>\n",
       "      <th>mediaAsset1.filePath</th>\n",
       "    </tr>\n",
       "  </thead>\n",
       "  <tbody>\n",
       "    <tr>\n",
       "      <th>70</th>\n",
       "      <td>APOD29</td>\n",
       "      <td>0aaaae54-64ab-438f-9ea5-8e30079851a6</td>\n",
       "      <td>-22.245569</td>\n",
       "      <td>166.561317</td>\n",
       "      <td>Mont Dore, baie de Boulari</td>\n",
       "      <td>New Caledonia</td>\n",
       "      <td>2006</td>\n",
       "      <td>1</td>\n",
       "      <td>31</td>\n",
       "      <td>hannahh</td>\n",
       "      <td>NaN</td>\n",
       "      <td>unknown</td>\n",
       "      <td>NaN</td>\n",
       "      <td>Feresa</td>\n",
       "      <td>attenuata</td>\n",
       "      <td>18; EC2006-02</td>\n",
       "      <td>Four animals, including three males and one fe...</td>\n",
       "      <td>18.jpg</td>\n",
       "      <td>/data/wildbook_data_dir/f/9/f96c766c-ffeb-49c3...</td>\n",
       "      <td>NaN</td>\n",
       "    </tr>\n",
       "    <tr>\n",
       "      <th>58</th>\n",
       "      <td>APOD55</td>\n",
       "      <td>26104014-8a91-42d8-97c9-0185a3a59b1e</td>\n",
       "      <td>-22.656855</td>\n",
       "      <td>167.441511</td>\n",
       "      <td>Ile des Pins, Kuto</td>\n",
       "      <td>New Caledonia</td>\n",
       "      <td>2009</td>\n",
       "      <td>12</td>\n",
       "      <td>15</td>\n",
       "      <td>hannahh</td>\n",
       "      <td>NaN</td>\n",
       "      <td>unknown</td>\n",
       "      <td>NaN</td>\n",
       "      <td>Unknown</td>\n",
       "      <td>whale</td>\n",
       "      <td>58; EC2009-08</td>\n",
       "      <td>NaN</td>\n",
       "      <td>NaN</td>\n",
       "      <td>NaN</td>\n",
       "      <td>NaN</td>\n",
       "    </tr>\n",
       "    <tr>\n",
       "      <th>7</th>\n",
       "      <td>APOD51</td>\n",
       "      <td>4ef0c988-b24f-48ff-a1e5-833a92c46242</td>\n",
       "      <td>-13.848130</td>\n",
       "      <td>-171.71618</td>\n",
       "      <td>Reef</td>\n",
       "      <td>Samoa</td>\n",
       "      <td>2015</td>\n",
       "      <td>11</td>\n",
       "      <td>19</td>\n",
       "      <td>hannahh</td>\n",
       "      <td>NaN</td>\n",
       "      <td>male</td>\n",
       "      <td>adult</td>\n",
       "      <td>Physeter</td>\n",
       "      <td>macrocephalus</td>\n",
       "      <td>75</td>\n",
       "      <td>carcass of the sperm whale moderately decompos...</td>\n",
       "      <td>75.jpg</td>\n",
       "      <td>/data/wildbook_data_dir/e/e/eee4e5d1-b8da-4879...</td>\n",
       "      <td>/data/wildbook_data_dir/e/e/eee4e5d1-b8da-4879...</td>\n",
       "    </tr>\n",
       "    <tr>\n",
       "      <th>61</th>\n",
       "      <td>APOD11</td>\n",
       "      <td>385c76a8-f0e2-47de-811d-adaaff70605d</td>\n",
       "      <td>-20.958490</td>\n",
       "      <td>167.238698</td>\n",
       "      <td>Lifou, Tribu de Hnaeu</td>\n",
       "      <td>New Caledonia</td>\n",
       "      <td>2009</td>\n",
       "      <td>11</td>\n",
       "      <td>22</td>\n",
       "      <td>hannahh</td>\n",
       "      <td>NaN</td>\n",
       "      <td>unknown</td>\n",
       "      <td>NaN</td>\n",
       "      <td>Physeter</td>\n",
       "      <td>macrocephalus</td>\n",
       "      <td>66; EC2009-04</td>\n",
       "      <td>NaN</td>\n",
       "      <td>NaN</td>\n",
       "      <td>NaN</td>\n",
       "      <td>NaN</td>\n",
       "    </tr>\n",
       "    <tr>\n",
       "      <th>8</th>\n",
       "      <td>APOD52</td>\n",
       "      <td>ea550bcb-9da6-42bf-b5f5-c5f3cc7580a1</td>\n",
       "      <td>-18.885498</td>\n",
       "      <td>-173.913574</td>\n",
       "      <td>Famuafoou Island Vava'u</td>\n",
       "      <td>Tonga</td>\n",
       "      <td>2015</td>\n",
       "      <td>10</td>\n",
       "      <td>17</td>\n",
       "      <td>hannahh</td>\n",
       "      <td>NaN</td>\n",
       "      <td>unknown</td>\n",
       "      <td>adult</td>\n",
       "      <td>Balaenoptera</td>\n",
       "      <td>sp</td>\n",
       "      <td>74</td>\n",
       "      <td>Probably a humpback whale but only a photograp...</td>\n",
       "      <td>74.jpg</td>\n",
       "      <td>/data/wildbook_data_dir/4/8/48c269d9-dcf8-4403...</td>\n",
       "      <td>NaN</td>\n",
       "    </tr>\n",
       "  </tbody>\n",
       "</table>\n",
       "</div>"
      ],
      "text/plain": [
       "        ID                          occurrenceID  decimalLatitude  \\\n",
       "70  APOD29  0aaaae54-64ab-438f-9ea5-8e30079851a6       -22.245569   \n",
       "58  APOD55  26104014-8a91-42d8-97c9-0185a3a59b1e       -22.656855   \n",
       "7   APOD51  4ef0c988-b24f-48ff-a1e5-833a92c46242       -13.848130   \n",
       "61  APOD11  385c76a8-f0e2-47de-811d-adaaff70605d       -20.958490   \n",
       "8   APOD52  ea550bcb-9da6-42bf-b5f5-c5f3cc7580a1       -18.885498   \n",
       "\n",
       "   decimalLongitude            verbatimLocality        country  year  month  \\\n",
       "70       166.561317  Mont Dore, baie de Boulari  New Caledonia  2006      1   \n",
       "58       167.441511          Ile des Pins, Kuto  New Caledonia  2009     12   \n",
       "7        -171.71618                        Reef          Samoa  2015     11   \n",
       "61       167.238698       Lifou, Tribu de Hnaeu  New Caledonia  2009     11   \n",
       "8       -173.913574     Famuafoou Island Vava'u          Tonga  2015     10   \n",
       "\n",
       "    day submitterID behavior      sex lifeStage         genus        species  \\\n",
       "70   31     hannahh      NaN  unknown       NaN        Feresa      attenuata   \n",
       "58   15     hannahh      NaN  unknown       NaN       Unknown          whale   \n",
       "7    19     hannahh      NaN     male     adult      Physeter  macrocephalus   \n",
       "61   22     hannahh      NaN  unknown       NaN      Physeter  macrocephalus   \n",
       "8    17     hannahh      NaN  unknown     adult  Balaenoptera             sp   \n",
       "\n",
       "   otherCatalogNumbers                                            Remarks  \\\n",
       "70       18; EC2006-02  Four animals, including three males and one fe...   \n",
       "58       58; EC2009-08                                                NaN   \n",
       "7                   75  carcass of the sperm whale moderately decompos...   \n",
       "61       66; EC2009-04                                                NaN   \n",
       "8                   74  Probably a humpback whale but only a photograp...   \n",
       "\n",
       "   mediaAsset0                               mediaAsset0.filePath  \\\n",
       "70      18.jpg  /data/wildbook_data_dir/f/9/f96c766c-ffeb-49c3...   \n",
       "58         NaN                                                NaN   \n",
       "7       75.jpg  /data/wildbook_data_dir/e/e/eee4e5d1-b8da-4879...   \n",
       "61         NaN                                                NaN   \n",
       "8       74.jpg  /data/wildbook_data_dir/4/8/48c269d9-dcf8-4403...   \n",
       "\n",
       "                                 mediaAsset1.filePath  \n",
       "70                                                NaN  \n",
       "58                                                NaN  \n",
       "7   /data/wildbook_data_dir/e/e/eee4e5d1-b8da-4879...  \n",
       "61                                                NaN  \n",
       "8                                                 NaN  "
      ]
     },
     "execution_count": 75,
     "metadata": {},
     "output_type": "execute_result"
    }
   ],
   "source": [
    "whale_stranding_in_oceania.sample(5)\n"
   ]
  },
  {
   "cell_type": "markdown",
   "metadata": {
    "slideshow": {
     "slide_type": "slide"
    }
   },
   "source": [
    "We can also get the list of columns out of the data frame"
   ]
  },
  {
   "cell_type": "code",
   "execution_count": 76,
   "metadata": {
    "slideshow": {
     "slide_type": "fragment"
    }
   },
   "outputs": [
    {
     "data": {
      "text/plain": [
       "Index(['ID', 'occurrenceID', 'decimalLatitude', 'decimalLongitude',\n",
       "       'verbatimLocality', 'country', 'year', 'month', 'day', 'submitterID',\n",
       "       'behavior', 'sex', 'lifeStage', 'genus', 'species',\n",
       "       'otherCatalogNumbers', 'Remarks', 'mediaAsset0', 'mediaAsset0.filePath',\n",
       "       'mediaAsset1.filePath'],\n",
       "      dtype='object')"
      ]
     },
     "execution_count": 76,
     "metadata": {},
     "output_type": "execute_result"
    }
   ],
   "source": [
    "whale_stranding_in_oceania.columns"
   ]
  },
  {
   "cell_type": "markdown",
   "metadata": {},
   "source": [
    "This is useful for you when you are documenting your dataset, you can make each column a heading, and then describe that column's characteristics."
   ]
  },
  {
   "cell_type": "markdown",
   "metadata": {
    "slideshow": {
     "slide_type": "slide"
    }
   },
   "source": [
    "You can't index a row directly, you need to use the `iloc` property. That means the _interger location_, so the zeroeth row would be `df.iloc[0]`. \n",
    "\n",
    "This gives us the row as a _Series_.\n",
    "\n",
    "↓"
   ]
  },
  {
   "cell_type": "code",
   "execution_count": 77,
   "metadata": {
    "slideshow": {
     "slide_type": "subslide"
    }
   },
   "outputs": [
    {
     "data": {
      "text/plain": [
       "ID                                                                 APOD75\n",
       "occurrenceID                         862f2dfe-3cdf-4843-b704-2d718f8a190a\n",
       "decimalLatitude                                                -13.667402\n",
       "decimalLongitude                                              -172.417382\n",
       "verbatimLocality                                                  Savai'i\n",
       "country                                                             Samoa\n",
       "year                                                                 2021\n",
       "month                                                                   3\n",
       "day                                                                    31\n",
       "submitterID                                                         jward\n",
       "behavior                Observed to be weak, however, it was reported ...\n",
       "sex                                                               unknown\n",
       "lifeStage                                                         unknown\n",
       "genus                                                             Ziphius\n",
       "species                                                       cavirostris\n",
       "otherCatalogNumbers                                                   NaN\n",
       "Remarks                 Photo provided was taken from a video on faceb...\n",
       "mediaAsset0             curvier's beaked whale Palauli 2021_taken from...\n",
       "mediaAsset0.filePath    /data/wildbook_data_dir/9/d/9dbd92e7-74c2-401d...\n",
       "mediaAsset1.filePath                                                  NaN\n",
       "Name: 1, dtype: object"
      ]
     },
     "execution_count": 77,
     "metadata": {},
     "output_type": "execute_result"
    }
   ],
   "source": [
    "row_one = whale_stranding_in_oceania.iloc[1]\n",
    "row_one\n"
   ]
  },
  {
   "cell_type": "markdown",
   "metadata": {
    "slideshow": {
     "slide_type": "subslide"
    }
   },
   "source": [
    "Series objects are _very_ similar to dictionaries. They have more properties though."
   ]
  },
  {
   "cell_type": "code",
   "execution_count": 78,
   "metadata": {
    "slideshow": {
     "slide_type": "-"
    }
   },
   "outputs": [
    {
     "data": {
      "text/plain": [
       "\"Savai'i\""
      ]
     },
     "execution_count": 78,
     "metadata": {},
     "output_type": "execute_result"
    }
   ],
   "source": [
    "row_one[\"verbatimLocality\"]"
   ]
  },
  {
   "cell_type": "markdown",
   "metadata": {},
   "source": [
    "You can access them like a dictionary ☝ or you can access them like a property 👇. \n",
    "\n",
    "I like the `my_series.key_name` best, but it won't work if there are spaces in your column title. That can happen if you are getting the data from somewhere else (i.e. you didn't make it)."
   ]
  },
  {
   "cell_type": "code",
   "execution_count": 79,
   "metadata": {},
   "outputs": [
    {
     "data": {
      "text/plain": [
       "\"Savai'i\""
      ]
     },
     "execution_count": 79,
     "metadata": {},
     "output_type": "execute_result"
    }
   ],
   "source": [
    "row_one.verbatimLocality                                                  "
   ]
  },
  {
   "cell_type": "markdown",
   "metadata": {
    "slideshow": {
     "slide_type": "slide"
    }
   },
   "source": [
    "Doing the same thing on a dataframe gives us the whole column"
   ]
  },
  {
   "cell_type": "code",
   "execution_count": 80,
   "metadata": {
    "slideshow": {
     "slide_type": "-"
    }
   },
   "outputs": [
    {
     "data": {
      "text/plain": [
       "0            dugong\n",
       "1       cavirostris\n",
       "2                sp\n",
       "3      longirostris\n",
       "4      longirostris\n",
       "          ...      \n",
       "71               sp\n",
       "72             sima\n",
       "73    macrocephalus\n",
       "74      cavirostris\n",
       "75           dugong\n",
       "Name: species, Length: 76, dtype: object"
      ]
     },
     "execution_count": 80,
     "metadata": {},
     "output_type": "execute_result"
    }
   ],
   "source": [
    "whale_stranding_in_oceania.species"
   ]
  },
  {
   "cell_type": "code",
   "execution_count": 81,
   "metadata": {
    "slideshow": {
     "slide_type": "slide"
    }
   },
   "outputs": [
    {
     "data": {
      "text/plain": [
       "<Axes: >"
      ]
     },
     "execution_count": 81,
     "metadata": {},
     "output_type": "execute_result"
    },
    {
     "data": {
      "image/png": "[encoded data removed]",
      "text/plain": [
       "<Figure size 1000x500 with 1 Axes>"
      ]
     },
     "metadata": {},
     "output_type": "display_data"
    }
   ],
   "source": [
    "whale_stranding_in_oceania[\"year\"].plot()"
   ]
  },
  {
   "cell_type": "markdown",
   "metadata": {
    "slideshow": {
     "slide_type": "fragment"
    }
   },
   "source": [
    "If we do a simple `plot` on this column we get a pretty dense, but useless graph. It much better one would be a histogram."
   ]
  },
  {
   "cell_type": "code",
   "execution_count": 82,
   "metadata": {
    "slideshow": {
     "slide_type": "slide"
    }
   },
   "outputs": [
    {
     "data": {
      "text/plain": [
       "<Axes: >"
      ]
     },
     "execution_count": 82,
     "metadata": {},
     "output_type": "execute_result"
    },
    {
     "data": {
      "image/png": "[encoded data removed]",
      "text/plain": [
       "<Figure size 1000x500 with 1 Axes>"
      ]
     },
     "metadata": {},
     "output_type": "display_data"
    }
   ],
   "source": [
    "whale_stranding_in_oceania.species.hist()\n",
    "\n"
   ]
  },
  {
   "cell_type": "markdown",
   "metadata": {
    "slideshow": {
     "slide_type": "fragment"
    }
   },
   "source": [
    "The problem we have now is that almost _all_ fines are less than $2000, but there's a very long tail that fills up the right of the graph."
   ]
  },
  {
   "cell_type": "markdown",
   "metadata": {
    "slideshow": {
     "slide_type": "slide"
    }
   },
   "source": [
    "Let's exclude all the values above $3000, and see what it looks like.\n",
    "\n",
    "We can do that with a nice feature of pandas, _boolean indexing_:"
   ]
  },
  {
   "cell_type": "code",
   "execution_count": 83,
   "metadata": {
    "slideshow": {
     "slide_type": "slide"
    }
   },
   "outputs": [
    {
     "data": {
      "text/plain": [
       "<Axes: >"
      ]
     },
     "execution_count": 83,
     "metadata": {},
     "output_type": "execute_result"
    },
    {
     "data": {
      "image/png": "[encoded data removed]",
      "text/plain": [
       "<Figure size 1000x500 with 1 Axes>"
      ]
     },
     "metadata": {},
     "output_type": "display_data"
    }
   ],
   "source": [
    "whale_stranding_in_oceania.year[whale_stranding_in_oceania.year < 2021].hist()\n"
   ]
  },
  {
   "cell_type": "markdown",
   "metadata": {
    "slideshow": {
     "slide_type": "slide"
    }
   },
   "source": [
    "That's pretty crazy/powerful, so let's see that happen a bit more clearly.\n",
    "\n",
    "We'll make our own series and call it  `some_numbers`\n",
    "\n",
    "Let's give it the values 0-99 "
   ]
  },
  {
   "cell_type": "code",
   "execution_count": 84,
   "metadata": {
    "slideshow": {
     "slide_type": "slide"
    }
   },
   "outputs": [
    {
     "data": {
      "text/plain": [
       "0    0\n",
       "1    1\n",
       "2    2\n",
       "3    3\n",
       "4    4\n",
       "dtype: int64"
      ]
     },
     "execution_count": 84,
     "metadata": {},
     "output_type": "execute_result"
    }
   ],
   "source": [
    "# Note the capital S, I have no idea why they did that!\n",
    "# but if you get an `AttributeError: 'module' object has no attribute 'series'` error...\n",
    "#                 v\n",
    "some_numbers = pd.Series(range(100))\n",
    "some_numbers.head()\n"
   ]
  },
  {
   "cell_type": "markdown",
   "metadata": {
    "slideshow": {
     "slide_type": "slide"
    }
   },
   "source": [
    "We can use boolean indexing to get just the values that are less than 8"
   ]
  },
  {
   "cell_type": "code",
   "execution_count": 85,
   "metadata": {
    "slideshow": {
     "slide_type": "-"
    }
   },
   "outputs": [
    {
     "data": {
      "text/plain": [
       "0    0\n",
       "1    1\n",
       "2    2\n",
       "3    3\n",
       "4    4\n",
       "5    5\n",
       "6    6\n",
       "7    7\n",
       "dtype: int64"
      ]
     },
     "execution_count": 85,
     "metadata": {},
     "output_type": "execute_result"
    }
   ],
   "source": [
    "some_numbers[some_numbers < 8]"
   ]
  },
  {
   "cell_type": "markdown",
   "metadata": {
    "slideshow": {
     "slide_type": "slide"
    }
   },
   "source": [
    "Or we can be fancy and get the numbers that are less than 4 _or_ more than 97:"
   ]
  },
  {
   "cell_type": "code",
   "execution_count": 86,
   "metadata": {
    "slideshow": {
     "slide_type": "-"
    }
   },
   "outputs": [
    {
     "data": {
      "text/plain": [
       "0      0\n",
       "1      1\n",
       "2      2\n",
       "3      3\n",
       "97    97\n",
       "98    98\n",
       "99    99\n",
       "dtype: int64"
      ]
     },
     "execution_count": 86,
     "metadata": {},
     "output_type": "execute_result"
    }
   ],
   "source": [
    "some_numbers[(some_numbers < 4) | (some_numbers >= 97)]\n",
    "# this needs the round brackets, not really sure why.\n"
   ]
  },
  {
   "cell_type": "markdown",
   "metadata": {
    "slideshow": {
     "slide_type": "slide"
    }
   },
   "source": [
    "We can be _really fancy_ too!  Allow me to introduce the:\n",
    "\n",
    "# 🎺 List comprehension 🎺\n",
    "\n",
    "This needs to resolve to a list of booleans that matches the list of inputs. It's filtering only for values that are True.\n",
    "\n",
    "If we use a list comprehension then we can do almost anything we like!"
   ]
  },
  {
   "cell_type": "code",
   "execution_count": 87,
   "metadata": {
    "slideshow": {
     "slide_type": "slide"
    }
   },
   "outputs": [
    {
     "name": "stdout",
     "output_type": "stream",
     "text": [
      "pattern: [False, False, False, False, False, False, False, True, True, True, False, False, True, False, False, False, True, False, False, True, False, False, True, False, False, False, False, False, False, False, False, False, True, True, True, True, True, True, False, False, False]\n"
     ]
    },
    {
     "data": {
      "text/plain": [
       "7                   Chicken\n",
       "8                Guinea pig\n",
       "9                    Donkey\n",
       "12        Western honey bee\n",
       "16                   pigeon\n",
       "19           Bactrian camel\n",
       "22               guineafowl\n",
       "32                   canary\n",
       "33            Society finch\n",
       "34              Fancy mouse\n",
       "35    Siamese fighting fish\n",
       "36    Fancy rat and Lab rat\n",
       "37                     mink\n",
       "dtype: object"
      ]
     },
     "execution_count": 87,
     "metadata": {},
     "output_type": "execute_result"
    }
   ],
   "source": [
    "pets = [\"Dog\", \"Goat\", \"pig\", \"Sheep\", \"Cattle\", \"Zebu\", \"Cat\", \"Chicken\", \"Guinea pig\",             \n",
    "        \"Donkey\", \"duck\", \"Water buffalo\", \"Western honey bee\", \"dromedary camel\", \"Horse\", \n",
    "        \"silkmoth\", \"pigeon\", \"goose\", \"Yak\", \"Bactrian camel\", \"Llama\", \"Alpaca\",   \n",
    "        \"guineafowl\", \"Ferret\", \"muscovy duck\", \"Barbary dove\", \"Bali cattle\", \"Gayal\",\n",
    "        \"turkey\", \"Goldfish\", \"rabbit\", \"Koi\", \"canary\", \"Society finch\", \"Fancy mouse\",\n",
    "        \"Siamese fighting fish\", \"Fancy rat and Lab rat\", \"mink\", \"red fox\", \"hedgehog\",\n",
    "        \"Guppy\"]\n",
    "\n",
    "pets_series = pd.Series(pets)\n",
    "pattern_of_bools = [(\"n\" in pet_name) for pet_name in pets_series]\n",
    "print(\"pattern:\",pattern_of_bools)\n",
    "\n",
    "pets_series[pattern_of_bools]"
   ]
  },
  {
   "cell_type": "markdown",
   "metadata": {
    "slideshow": {
     "slide_type": "-"
    }
   },
   "source": [
    "_Note: the first `in` means a different thing to the second `in`. I was wondering if I should leave this out, but it's probably good to expose you to strange stuff!_\n",
    "\n",
    "You've seen this _pattern_ before, we used to make the grids of stars etc."
   ]
  },
  {
   "cell_type": "code",
   "execution_count": 88,
   "metadata": {},
   "outputs": [
    {
     "data": {
      "text/plain": [
       "['Goat', 'Zebu', 'duck', 'mink']"
      ]
     },
     "execution_count": 88,
     "metadata": {},
     "output_type": "execute_result"
    }
   ],
   "source": [
    "pets_we_care_about = []\n",
    "for this_pet in pets:\n",
    "    if len(this_pet) == 4:\n",
    "        pets_we_care_about.append(this_pet)\n",
    "pets_we_care_about\n"
   ]
  },
  {
   "cell_type": "markdown",
   "metadata": {},
   "source": [
    "This comes up so often that python has a built in pattern for doing this called a _list comprehension_\n",
    "\n",
    "This one is pretty silly because it takes the contents of one list and makes a new list out of it. Not doing anything else along the way."
   ]
  },
  {
   "cell_type": "code",
   "execution_count": 89,
   "metadata": {},
   "outputs": [
    {
     "data": {
      "text/plain": [
       "['Dog',\n",
       " 'Goat',\n",
       " 'pig',\n",
       " 'Sheep',\n",
       " 'Cattle',\n",
       " 'Zebu',\n",
       " 'Cat',\n",
       " 'Chicken',\n",
       " 'Guinea pig',\n",
       " 'Donkey',\n",
       " 'duck',\n",
       " 'Water buffalo',\n",
       " 'Western honey bee',\n",
       " 'dromedary camel',\n",
       " 'Horse',\n",
       " 'silkmoth',\n",
       " 'pigeon',\n",
       " 'goose',\n",
       " 'Yak',\n",
       " 'Bactrian camel',\n",
       " 'Llama',\n",
       " 'Alpaca',\n",
       " 'guineafowl',\n",
       " 'Ferret',\n",
       " 'muscovy duck',\n",
       " 'Barbary dove',\n",
       " 'Bali cattle',\n",
       " 'Gayal',\n",
       " 'turkey',\n",
       " 'Goldfish',\n",
       " 'rabbit',\n",
       " 'Koi',\n",
       " 'canary',\n",
       " 'Society finch',\n",
       " 'Fancy mouse',\n",
       " 'Siamese fighting fish',\n",
       " 'Fancy rat and Lab rat',\n",
       " 'mink',\n",
       " 'red fox',\n",
       " 'hedgehog',\n",
       " 'Guppy']"
      ]
     },
     "execution_count": 89,
     "metadata": {},
     "output_type": "execute_result"
    }
   ],
   "source": [
    "[p for p in pets]"
   ]
  },
  {
   "cell_type": "markdown",
   "metadata": {},
   "source": [
    "This one converts the list to uppercase while it's doing the transfer"
   ]
  },
  {
   "cell_type": "code",
   "execution_count": 90,
   "metadata": {},
   "outputs": [
    {
     "data": {
      "text/plain": [
       "['DOG',\n",
       " 'GOAT',\n",
       " 'PIG',\n",
       " 'SHEEP',\n",
       " 'CATTLE',\n",
       " 'ZEBU',\n",
       " 'CAT',\n",
       " 'CHICKEN',\n",
       " 'GUINEA PIG',\n",
       " 'DONKEY',\n",
       " 'DUCK',\n",
       " 'WATER BUFFALO',\n",
       " 'WESTERN HONEY BEE',\n",
       " 'DROMEDARY CAMEL',\n",
       " 'HORSE',\n",
       " 'SILKMOTH',\n",
       " 'PIGEON',\n",
       " 'GOOSE',\n",
       " 'YAK',\n",
       " 'BACTRIAN CAMEL',\n",
       " 'LLAMA',\n",
       " 'ALPACA',\n",
       " 'GUINEAFOWL',\n",
       " 'FERRET',\n",
       " 'MUSCOVY DUCK',\n",
       " 'BARBARY DOVE',\n",
       " 'BALI CATTLE',\n",
       " 'GAYAL',\n",
       " 'TURKEY',\n",
       " 'GOLDFISH',\n",
       " 'RABBIT',\n",
       " 'KOI',\n",
       " 'CANARY',\n",
       " 'SOCIETY FINCH',\n",
       " 'FANCY MOUSE',\n",
       " 'SIAMESE FIGHTING FISH',\n",
       " 'FANCY RAT AND LAB RAT',\n",
       " 'MINK',\n",
       " 'RED FOX',\n",
       " 'HEDGEHOG',\n",
       " 'GUPPY']"
      ]
     },
     "execution_count": 90,
     "metadata": {},
     "output_type": "execute_result"
    }
   ],
   "source": [
    "[p.upper() for p in pets]"
   ]
  },
  {
   "cell_type": "markdown",
   "metadata": {},
   "source": [
    "And this one has a condition. It asks if each pet name `p` is exactly 4 characters long. If it is, it lets it through its filter."
   ]
  },
  {
   "cell_type": "code",
   "execution_count": 91,
   "metadata": {},
   "outputs": [
    {
     "data": {
      "text/plain": [
       "['Goat', 'Zebu', 'duck', 'mink']"
      ]
     },
     "execution_count": 91,
     "metadata": {},
     "output_type": "execute_result"
    }
   ],
   "source": [
    "[p for p in pets if len(p) == 4]\n"
   ]
  },
  {
   "cell_type": "markdown",
   "metadata": {},
   "source": [
    "And this one is doing both"
   ]
  },
  {
   "cell_type": "code",
   "execution_count": 92,
   "metadata": {},
   "outputs": [
    {
     "data": {
      "text/plain": [
       "['SHEEP', 'HORSE', 'GOOSE', 'LLAMA', 'GAYAL', 'GUPPY']"
      ]
     },
     "execution_count": 92,
     "metadata": {},
     "output_type": "execute_result"
    }
   ],
   "source": [
    "[p.upper() for p in pets if len(p) == 5]\n"
   ]
  },
  {
   "cell_type": "markdown",
   "metadata": {
    "slideshow": {
     "slide_type": "slide"
    }
   },
   "source": [
    "Anyway, back to our fines, it looks like we have a similar pattern of fines here, lots at the bottom end, not so many high value ones. \n",
    "\n",
    "This is using some pandas magic, not a list comprehension. The magic is that you can compare a series using < or > and get back a list of booleans. This wouldn't work using a list.\n",
    "\n",
    "Let's add one more thing too, to make these graphs less garbage 🗑, a title."
   ]
  },
  {
   "cell_type": "code",
   "execution_count": 93,
   "metadata": {
    "slideshow": {
     "slide_type": "fragment"
    }
   },
   "outputs": [
    {
     "data": {
      "text/plain": [
       "Text(0.5, 1.0, ' year before 2021')"
      ]
     },
     "execution_count": 93,
     "metadata": {},
     "output_type": "execute_result"
    },
    {
     "data": {
      "image/png": "[encoded data removed]",
      "text/plain": [
       "<Figure size 1000x500 with 1 Axes>"
      ]
     },
     "metadata": {},
     "output_type": "display_data"
    }
   ],
   "source": [
    "upper_bound = 2021\n",
    "whale_stranding_in_oceania.year[whale_stranding_in_oceania.year < upper_bound].hist()\n",
    "plt.title(f\" year before {upper_bound}\")\n"
   ]
  },
  {
   "cell_type": "markdown",
   "metadata": {
    "slideshow": {
     "slide_type": "slide"
    }
   },
   "source": [
    "Let's see what's under $1000"
   ]
  },
  {
   "cell_type": "code",
   "execution_count": 94,
   "metadata": {
    "slideshow": {
     "slide_type": "-"
    }
   },
   "outputs": [
    {
     "data": {
      "text/plain": [
       "Text(0.5, 1.0, 'All fines under $2019')"
      ]
     },
     "execution_count": 94,
     "metadata": {},
     "output_type": "execute_result"
    },
    {
     "data": {
      "image/png": "[encoded data removed]",
      "text/plain": [
       "<Figure size 1000x500 with 1 Axes>"
      ]
     },
     "metadata": {},
     "output_type": "display_data"
    }
   ],
   "source": [
    "upper_bound = 2019\n",
    "whale_stranding_in_oceania.year[whale_stranding_in_oceania.year < upper_bound].hist()\n",
    "plt.title(f\"All fines under ${upper_bound}\")\n"
   ]
  },
  {
   "cell_type": "markdown",
   "metadata": {},
   "source": [
    "This warants some further investigation, but we'll come back to it in a bit. First, let's look at some of the other columns."
   ]
  },
  {
   "cell_type": "markdown",
   "metadata": {
    "slideshow": {
     "slide_type": "slide"
    }
   },
   "source": [
    "In the `LEGISLATION` column it tells us which law was invoked to give this fine. "
   ]
  },
  {
   "cell_type": "code",
   "execution_count": 95,
   "metadata": {},
   "outputs": [
    {
     "data": {
      "text/html": [
       "<div>\n",
       "<style scoped>\n",
       "    .dataframe tbody tr th:only-of-type {\n",
       "        vertical-align: middle;\n",
       "    }\n",
       "\n",
       "    .dataframe tbody tr th {\n",
       "        vertical-align: top;\n",
       "    }\n",
       "\n",
       "    .dataframe thead th {\n",
       "        text-align: right;\n",
       "    }\n",
       "</style>\n",
       "<table border=\"1\" class=\"dataframe\">\n",
       "  <thead>\n",
       "    <tr style=\"text-align: right;\">\n",
       "      <th></th>\n",
       "      <th>ID</th>\n",
       "      <th>occurrenceID</th>\n",
       "      <th>decimalLatitude</th>\n",
       "      <th>decimalLongitude</th>\n",
       "      <th>verbatimLocality</th>\n",
       "      <th>country</th>\n",
       "      <th>year</th>\n",
       "      <th>month</th>\n",
       "      <th>day</th>\n",
       "      <th>submitterID</th>\n",
       "      <th>behavior</th>\n",
       "      <th>sex</th>\n",
       "      <th>lifeStage</th>\n",
       "      <th>genus</th>\n",
       "      <th>species</th>\n",
       "      <th>otherCatalogNumbers</th>\n",
       "      <th>Remarks</th>\n",
       "      <th>mediaAsset0</th>\n",
       "      <th>mediaAsset0.filePath</th>\n",
       "      <th>mediaAsset1.filePath</th>\n",
       "    </tr>\n",
       "  </thead>\n",
       "  <tbody>\n",
       "    <tr>\n",
       "      <th>0</th>\n",
       "      <td>APOD74</td>\n",
       "      <td>EC2021-01-01</td>\n",
       "      <td>-21.619902</td>\n",
       "      <td>165.454702</td>\n",
       "      <td>Bourail</td>\n",
       "      <td>New Caledonia</td>\n",
       "      <td>2021</td>\n",
       "      <td>5</td>\n",
       "      <td>29</td>\n",
       "      <td>cgarrigue</td>\n",
       "      <td>NaN</td>\n",
       "      <td>female</td>\n",
       "      <td>adult</td>\n",
       "      <td>Dugong</td>\n",
       "      <td>dugong</td>\n",
       "      <td>NaN</td>\n",
       "      <td>NaN</td>\n",
       "      <td>NaN</td>\n",
       "      <td>NaN</td>\n",
       "      <td>NaN</td>\n",
       "    </tr>\n",
       "    <tr>\n",
       "      <th>1</th>\n",
       "      <td>APOD75</td>\n",
       "      <td>862f2dfe-3cdf-4843-b704-2d718f8a190a</td>\n",
       "      <td>-13.667402</td>\n",
       "      <td>-172.417382</td>\n",
       "      <td>Savai'i</td>\n",
       "      <td>Samoa</td>\n",
       "      <td>2021</td>\n",
       "      <td>3</td>\n",
       "      <td>31</td>\n",
       "      <td>jward</td>\n",
       "      <td>Observed to be weak, however, it was reported ...</td>\n",
       "      <td>unknown</td>\n",
       "      <td>unknown</td>\n",
       "      <td>Ziphius</td>\n",
       "      <td>cavirostris</td>\n",
       "      <td>NaN</td>\n",
       "      <td>Photo provided was taken from a video on faceb...</td>\n",
       "      <td>curvier's beaked whale Palauli 2021_taken from...</td>\n",
       "      <td>/data/wildbook_data_dir/9/d/9dbd92e7-74c2-401d...</td>\n",
       "      <td>NaN</td>\n",
       "    </tr>\n",
       "  </tbody>\n",
       "</table>\n",
       "</div>"
      ],
      "text/plain": [
       "       ID                          occurrenceID  decimalLatitude  \\\n",
       "0  APOD74                          EC2021-01-01       -21.619902   \n",
       "1  APOD75  862f2dfe-3cdf-4843-b704-2d718f8a190a       -13.667402   \n",
       "\n",
       "  decimalLongitude verbatimLocality        country  year  month  day  \\\n",
       "0       165.454702          Bourail  New Caledonia  2021      5   29   \n",
       "1      -172.417382          Savai'i          Samoa  2021      3   31   \n",
       "\n",
       "  submitterID                                           behavior      sex  \\\n",
       "0   cgarrigue                                                NaN   female   \n",
       "1       jward  Observed to be weak, however, it was reported ...  unknown   \n",
       "\n",
       "  lifeStage    genus      species otherCatalogNumbers  \\\n",
       "0     adult   Dugong       dugong                 NaN   \n",
       "1   unknown  Ziphius  cavirostris                 NaN   \n",
       "\n",
       "                                             Remarks  \\\n",
       "0                                                NaN   \n",
       "1  Photo provided was taken from a video on faceb...   \n",
       "\n",
       "                                         mediaAsset0  \\\n",
       "0                                                NaN   \n",
       "1  curvier's beaked whale Palauli 2021_taken from...   \n",
       "\n",
       "                                mediaAsset0.filePath mediaAsset1.filePath  \n",
       "0                                                NaN                  NaN  \n",
       "1  /data/wildbook_data_dir/9/d/9dbd92e7-74c2-401d...                  NaN  "
      ]
     },
     "execution_count": 95,
     "metadata": {},
     "output_type": "execute_result"
    }
   ],
   "source": [
    "whale_stranding_in_oceania.head(2)"
   ]
  },
  {
   "cell_type": "markdown",
   "metadata": {},
   "source": [
    "We can see that `FACE_VALUE` is numbers, we call that a _continuous_ value, so we can make histograms and other kinds of plots of it. `LEGISLATION` is strings, or _categorical_ values. We can't graph a string, but we can count how many times it shows up, and graph that number."
   ]
  },
  {
   "cell_type": "code",
   "execution_count": 96,
   "metadata": {
    "slideshow": {
     "slide_type": "-"
    }
   },
   "outputs": [
    {
     "data": {
      "text/plain": [
       "species\n",
       "dugong           19\n",
       "macrocephalus    17\n",
       "macrorhynchus     8\n",
       "cavirostris       7\n",
       "sp                4\n",
       "longirostris      4\n",
       "breviceps         4\n",
       "whale             3\n",
       "pacificus         2\n",
       "novaeangliae      2\n",
       "sima              2\n",
       "attenuata         2\n",
       "aduncus           1\n",
       "electra           1\n",
       "Name: count, dtype: int64"
      ]
     },
     "execution_count": 96,
     "metadata": {},
     "output_type": "execute_result"
    }
   ],
   "source": [
    "whale_stranding_in_oceania.species.value_counts()"
   ]
  },
  {
   "cell_type": "markdown",
   "metadata": {
    "slideshow": {
     "slide_type": "fragment"
    }
   },
   "source": [
    "*ROAD RULES 2008* and *2014* are pretty popular, but only one person got a ticket under the *COMBAT SPORTS REGULATION 2014* and one other person got booked for something under the *TATTOO PARLOURS REGULATION 2013*"
   ]
  },
  {
   "cell_type": "code",
   "execution_count": 97,
   "metadata": {
    "slideshow": {
     "slide_type": "slide"
    }
   },
   "outputs": [
    {
     "data": {
      "text/plain": [
       "<Axes: xlabel='species'>"
      ]
     },
     "execution_count": 97,
     "metadata": {},
     "output_type": "execute_result"
    },
    {
     "data": {
      "image/png": "[encoded data removed]",
      "text/plain": [
       "<Figure size 1000x500 with 1 Axes>"
      ]
     },
     "metadata": {},
     "output_type": "display_data"
    }
   ],
   "source": [
    "pdvc = whale_stranding_in_oceania.species.value_counts() # This makes a series\n",
    "pdvc.plot(kind=\"bar\")"
   ]
  },
  {
   "cell_type": "markdown",
   "metadata": {
    "slideshow": {
     "slide_type": "slide"
    }
   },
   "source": [
    "We're going to see this distribution over and over again as we look at all kinds of data set.\n",
    "\n",
    "These are probably the most common distributions, but they leave off the [power law](https://en.wikipedia.org/wiki/Power_law), which I think this probably is. \n",
    "\n",
    "![some common distributions and their relationships](https://storage.ning.com/topology/rest/1.0/file/get/136706870?profile=original&width=600) \n",
    "\n",
    "from [here](https://www.datasciencecentral.com/profiles/blogs/common-probability-distributions-the-data-scientist-s-crib-sheet)"
   ]
  },
  {
   "cell_type": "code",
   "execution_count": 98,
   "metadata": {
    "slideshow": {
     "slide_type": "slide"
    }
   },
   "outputs": [
    {
     "data": {
      "image/png": "[encoded data removed]",
      "text/plain": [
       "<Figure size 1000x500 with 1 Axes>"
      ]
     },
     "metadata": {},
     "output_type": "display_data"
    }
   ],
   "source": [
    "pdvc = whale_stranding_in_oceania.species.value_counts() \n",
    "pdvc[pdvc < 17].plot(kind=\"bar\");"
   ]
  },
  {
   "cell_type": "markdown",
   "metadata": {
    "slideshow": {
     "slide_type": "slide"
    }
   },
   "source": [
    "This pattern keeps repeating itself:"
   ]
  },
  {
   "cell_type": "code",
   "execution_count": 99,
   "metadata": {
    "slideshow": {
     "slide_type": "slide"
    }
   },
   "outputs": [
    {
     "data": {
      "text/plain": [
       "<Axes: xlabel='species'>"
      ]
     },
     "execution_count": 99,
     "metadata": {},
     "output_type": "execute_result"
    },
    {
     "data": {
      "image/png": "[encoded data removed]",
      "text/plain": [
       "<Figure size 1000x500 with 1 Axes>"
      ]
     },
     "metadata": {},
     "output_type": "display_data"
    }
   ],
   "source": [
    "pdvc[pdvc < 1000].plot(kind=\"bar\")"
   ]
  },
  {
   "cell_type": "code",
   "execution_count": 100,
   "metadata": {
    "slideshow": {
     "slide_type": "slide"
    }
   },
   "outputs": [
    {
     "data": {
      "text/plain": [
       "<Axes: xlabel='species'>"
      ]
     },
     "execution_count": 100,
     "metadata": {},
     "output_type": "execute_result"
    },
    {
     "data": {
      "image/png": "[encoded data removed]",
      "text/plain": [
       "<Figure size 1000x500 with 1 Axes>"
      ]
     },
     "metadata": {},
     "output_type": "display_data"
    }
   ],
   "source": [
    "pdvc[pdvc < 100].plot(kind=\"bar\")"
   ]
  },
  {
   "cell_type": "markdown",
   "metadata": {},
   "source": [
    "There are a bunch of _keyword arguments_ that you can give to the `plot` function. In this case, let's flip it on into its side so we can read the labels more easily:"
   ]
  },
  {
   "cell_type": "code",
   "execution_count": 101,
   "metadata": {
    "slideshow": {
     "slide_type": "slide"
    }
   },
   "outputs": [
    {
     "data": {
      "text/plain": [
       "<Axes: ylabel='species'>"
      ]
     },
     "execution_count": 101,
     "metadata": {},
     "output_type": "execute_result"
    },
    {
     "data": {
      "image/png": "[encoded data removed]",
      "text/plain": [
       "<Figure size 1000x500 with 1 Axes>"
      ]
     },
     "metadata": {},
     "output_type": "display_data"
    }
   ],
   "source": [
    "pdvc[pdvc < 3].plot(kind=\"barh\")"
   ]
  },
  {
   "cell_type": "markdown",
   "metadata": {
    "slideshow": {
     "slide_type": "slide"
    }
   },
   "source": [
    "# Making plots nice"
   ]
  },
  {
   "cell_type": "markdown",
   "metadata": {
    "slideshow": {
     "slide_type": "slide"
    }
   },
   "source": [
    "I said we'd come back to our histogram. [Here's a demo histogram from the matplotlib website](http://matplotlib.org/1.2.1/examples/pylab_examples/histogram_demo.html)."
   ]
  },
  {
   "cell_type": "code",
   "execution_count": 102,
   "metadata": {},
   "outputs": [],
   "source": [
    "# This bit makes some random data. Ignore it unless you are a total nerd\n",
    "mu = 100\n",
    "sigma = 15\n",
    "x = mu + sigma * np.random.randn(10000)\n"
   ]
  },
  {
   "cell_type": "code",
   "execution_count": 103,
   "metadata": {},
   "outputs": [
    {
     "data": {
      "image/png": "[encoded data removed]",
      "text/plain": [
       "<Figure size 1000x500 with 1 Axes>"
      ]
     },
     "metadata": {},
     "output_type": "display_data"
    }
   ],
   "source": [
    "# the histogram of the data\n",
    "plt.hist(x, 50, density=1, facecolor=\"green\", alpha=0.75)\n",
    "plt.xlabel(\"Smarts\")\n",
    "plt.ylabel(\"Probability\")\n",
    "plt.title(\n",
    "    r\"$\\mathrm{Histogram\\ of\\ IQ:}\\ \\mu=100,\\ \\sigma=15$\"\n",
    ")  # allows for latex formatting\n",
    "plt.grid(True)\n",
    "# plt.show()\n"
   ]
  },
  {
   "cell_type": "markdown",
   "metadata": {
    "slideshow": {
     "slide_type": "slide"
    }
   },
   "source": [
    "Here's how we made our histogram before:"
   ]
  },
  {
   "cell_type": "code",
   "execution_count": 104,
   "metadata": {},
   "outputs": [
    {
     "data": {
      "text/plain": [
       "<Axes: >"
      ]
     },
     "execution_count": 104,
     "metadata": {},
     "output_type": "execute_result"
    },
    {
     "data": {
      "image/png": "[encoded data removed]",
      "text/plain": [
       "<Figure size 1000x500 with 1 Axes>"
      ]
     },
     "metadata": {},
     "output_type": "display_data"
    }
   ],
   "source": [
    "whale_stranding_in_oceania.year[whale_stranding_in_oceania.year < 2014].hist()\n"
   ]
  },
  {
   "cell_type": "markdown",
   "metadata": {
    "slideshow": {
     "slide_type": "slide"
    }
   },
   "source": [
    "This is using the graphing tools from inside pandas\n",
    "\n",
    "And this is how we'd change it so that we can add more features, by using Matplotlib directly:"
   ]
  },
  {
   "cell_type": "code",
   "execution_count": 105,
   "metadata": {},
   "outputs": [
    {
     "data": {
      "image/png": "[encoded data removed]",
      "text/plain": [
       "<Figure size 1000x500 with 1 Axes>"
      ]
     },
     "metadata": {},
     "output_type": "display_data"
    }
   ],
   "source": [
    "capped_face_value_data = whale_stranding_in_oceania.year[whale_stranding_in_oceania.year < 2000]\n",
    "\n",
    "plt.hist(capped_face_value_data)\n",
    "plt.show()\n"
   ]
  },
  {
   "cell_type": "markdown",
   "metadata": {
    "collapsed": true,
    "slideshow": {
     "slide_type": "slide"
    }
   },
   "source": [
    "Let's look at some of the things we can do to this. The docs for histograms are here: http://matplotlib.org/api/pyplot_api.html#matplotlib.pyplot.hist"
   ]
  },
  {
   "cell_type": "code",
   "execution_count": 113,
   "metadata": {},
   "outputs": [
    {
     "data": {
      "image/png": "[encoded data removed]",
      "text/plain": [
       "<Figure size 1000x500 with 1 Axes>"
      ]
     },
     "metadata": {},
     "output_type": "display_data"
    }
   ],
   "source": [
    "capped_face_value_data = whale_stranding_in_oceania.year[whale_stranding_in_oceania.year < 2021]\n",
    "\n",
    "# We can keep adding things to this plot to see what's going on.\n",
    "plt.hist(capped_face_value_data, bins=10, facecolor=\"blue\", alpha=0.2)  # <-old one\n",
    "plt.hist(capped_face_value_data, bins=50, facecolor=\"green\", alpha=1)  # <-new one\n",
    "plt.show()\n"
   ]
  },
  {
   "cell_type": "markdown",
   "metadata": {
    "slideshow": {
     "slide_type": "slide"
    }
   },
   "source": [
    "We can go back to our initial, unfiltered, data:"
   ]
  },
  {
   "cell_type": "code",
   "execution_count": 107,
   "metadata": {},
   "outputs": [
    {
     "data": {
      "image/png": "[encoded data removed]",
      "text/plain": [
       "<Figure size 1000x500 with 1 Axes>"
      ]
     },
     "metadata": {},
     "output_type": "display_data"
    }
   ],
   "source": [
    "plt.hist(whale_stranding_in_oceania.year, bins=10)\n",
    "plt.show()"
   ]
  },
  {
   "cell_type": "markdown",
   "metadata": {
    "slideshow": {
     "slide_type": "slide"
    }
   },
   "source": [
    "Instead of doing the filtering before we present the data, we can use the graph to hide the extents of an axis:"
   ]
  },
  {
   "cell_type": "code",
   "execution_count": 114,
   "metadata": {},
   "outputs": [
    {
     "data": {
      "image/png": "[encoded data removed]",
      "text/plain": [
       "<Figure size 1000x500 with 1 Axes>"
      ]
     },
     "metadata": {},
     "output_type": "display_data"
    }
   ],
   "source": [
    "plt.hist(whale_stranding_in_oceania[\"country\"], bins=50, range=(1990, 2022))\n",
    "plt.show()"
   ]
  },
  {
   "cell_type": "markdown",
   "metadata": {
    "slideshow": {
     "slide_type": "slide"
    }
   },
   "source": [
    "We can nice that up a bit by pulling the parameters out as variables:\n",
    "(unmagically, no difference!)"
   ]
  },
  {
   "cell_type": "code",
   "execution_count": 109,
   "metadata": {},
   "outputs": [
    {
     "data": {
      "image/png": "[encoded data removed]",
      "text/plain": [
       "<Figure size 1000x500 with 1 Axes>"
      ]
     },
     "metadata": {},
     "output_type": "display_data"
    }
   ],
   "source": [
    "number_of_bins = 50\n",
    "lower_bound = 2004\n",
    "upper_bound = 2017\n",
    "plt.hist(\n",
    "    whale_stranding_in_oceania.year,\n",
    "    bins=number_of_bins,\n",
    "    range=(lower_bound, upper_bound),\n",
    ")\n",
    "plt.show()\n"
   ]
  },
  {
   "cell_type": "markdown",
   "metadata": {},
   "source": [
    "This is still pretty naughty, we should have at least a title and some axis lables.\n",
    "\n",
    "We do that by setting some more properties on the `plt` object.\n",
    "\n",
    "Definitely a title and some axis labels. If you make charts/plots without axis labels, Linus Torvalds kills a kitten."
   ]
  },
  {
   "cell_type": "code",
   "execution_count": 112,
   "metadata": {
    "scrolled": false,
    "slideshow": {
     "slide_type": "-"
    }
   },
   "outputs": [
    {
     "data": {
      "image/png": "[encoded data removed]",
      "text/plain": [
       "<Figure size 1000x500 with 1 Axes>"
      ]
     },
     "metadata": {},
     "output_type": "display_data"
    }
   ],
   "source": [
    "number_of_bins = 50\n",
    "lower_bound = 1\n",
    "upper_bound = 10\n",
    "\n",
    "\n",
    "plt.hist(whale_stranding_in_oceania.country, bins=number_of_bins, range=(lower_bound, upper_bound))\n",
    "plt.title(\"Number of fines of a given value issued in this period\", fontsize=15)\n",
    "plt.xlabel(\"$ value of fine\", fontsize=26)\n",
    "plt.ylabel(\"Count\", fontsize=16)\n",
    "plt.grid(True)\n",
    "plt.show()\n"
   ]
  },
  {
   "cell_type": "markdown",
   "metadata": {
    "slideshow": {
     "slide_type": "slide"
    }
   },
   "source": [
    "We could get the dates from the dataset if we wanted to be clever about it. But at the moment, the dates are just strings, not useful date objects. Let's fix that.\n",
    "\n",
    "If we reimport the date, but with a bit more cleverness, we can tell pandas to convert the dates to actual dates.\n",
    "\n",
    "Because _we_ are civilised, we use either iso dates `YYYY-MM-DD` or `DD-MM-YYYY`, but often you'll have to deal with data prepared by savages who don't respect this rational behaviour. They will use `MM-DD-YY` and other such primitive formats.\n",
    "\n",
    "The settings used here control how it's read. You can only really tell by looking at the data and working it out. E.g. are there months bigger than 12?"
   ]
  },
  {
   "cell_type": "code",
   "execution_count": null,
   "metadata": {
    "slideshow": {
     "slide_type": "-"
    }
   },
   "outputs": [
    {
     "ename": "TypeError",
     "evalue": "read_excel() got an unexpected keyword argument 'infer_datetime_format'",
     "output_type": "error",
     "traceback": [
      "\u001b[1;31m---------------------------------------------------------------------------\u001b[0m",
      "\u001b[1;31mTypeError\u001b[0m                                 Traceback (most recent call last)",
      "Cell \u001b[1;32mIn[56], line 1\u001b[0m\n\u001b[1;32m----> 1\u001b[0m whale_stranding_in_oceania \u001b[38;5;241m=\u001b[39m \u001b[43mpd\u001b[49m\u001b[38;5;241;43m.\u001b[39;49m\u001b[43mread_excel\u001b[49m\u001b[43m(\u001b[49m\n\u001b[0;32m      2\u001b[0m \u001b[43m    \u001b[49m\u001b[43mfilepath\u001b[49m\u001b[43m,\u001b[49m\n\u001b[0;32m      3\u001b[0m \u001b[43m    \u001b[49m\u001b[43minfer_datetime_format\u001b[49m\u001b[38;5;241;43m=\u001b[39;49m\u001b[38;5;28;43;01mTrue\u001b[39;49;00m\u001b[43m,\u001b[49m\n\u001b[0;32m      4\u001b[0m \u001b[43m    \u001b[49m\u001b[43mparse_dates\u001b[49m\u001b[38;5;241;43m=\u001b[39;49m\u001b[43m[\u001b[49m\u001b[38;5;124;43m\"\u001b[39;49m\u001b[38;5;124;43myear\u001b[39;49m\u001b[38;5;124;43m\"\u001b[39;49m\u001b[43m]\u001b[49m\u001b[43m,\u001b[49m\n\u001b[0;32m      5\u001b[0m \u001b[43m    \u001b[49m\u001b[43mdayfirst\u001b[49m\u001b[38;5;241;43m=\u001b[39;49m\u001b[38;5;28;43;01mTrue\u001b[39;49;00m\u001b[43m,\u001b[49m\n\u001b[0;32m      6\u001b[0m \u001b[43m)\u001b[49m\n\u001b[0;32m      7\u001b[0m whale_stranding_in_oceania\u001b[38;5;241m.\u001b[39mhead(\u001b[38;5;241m2\u001b[39m)\n",
      "\u001b[1;31mTypeError\u001b[0m: read_excel() got an unexpected keyword argument 'infer_datetime_format'"
     ]
    }
   ],
   "source": [
    "whale_stranding_in_oceania = pd.read_excel(\n",
    "    filepath,\n",
    "    infer_datetime_format=True,\n",
    "    parse_dates=[\"year\"],\n",
    "    dayfirst=True,\n",
    ")\n",
    "whale_stranding_in_oceania.head(2)\n"
   ]
  },
  {
   "cell_type": "markdown",
   "metadata": {},
   "source": [
    "This is some straight up, powerful voodoo.\n",
    "\n",
    "We can use a simple `min()` and `max()` method on the column to get the date range."
   ]
  },
  {
   "cell_type": "code",
   "execution_count": null,
   "metadata": {},
   "outputs": [
    {
     "ename": "AttributeError",
     "evalue": "'DataFrame' object has no attribute 'OFFENCE_MONTH'",
     "output_type": "error",
     "traceback": [
      "\u001b[1;31m---------------------------------------------------------------------------\u001b[0m",
      "\u001b[1;31mAttributeError\u001b[0m                            Traceback (most recent call last)",
      "\u001b[1;32m~\\AppData\\Local\\Temp\\ipykernel_43304\\1643079207.py\u001b[0m in \u001b[0;36m?\u001b[1;34m()\u001b[0m\n\u001b[1;32m----> 1\u001b[1;33m \u001b[0mfirst_date\u001b[0m \u001b[1;33m=\u001b[0m \u001b[0mwhale_stranding_in_oceania\u001b[0m\u001b[1;33m.\u001b[0m\u001b[0mOFFENCE_MONTH\u001b[0m\u001b[1;33m.\u001b[0m\u001b[0mmin\u001b[0m\u001b[1;33m(\u001b[0m\u001b[1;33m)\u001b[0m\u001b[1;33m\u001b[0m\u001b[1;33m\u001b[0m\u001b[0m\n\u001b[0m\u001b[0;32m      2\u001b[0m \u001b[0mlast_date\u001b[0m \u001b[1;33m=\u001b[0m \u001b[0mwhale_stranding_in_oceania\u001b[0m\u001b[1;33m.\u001b[0m\u001b[0mOFFENCE_MONTH\u001b[0m\u001b[1;33m.\u001b[0m\u001b[0mmax\u001b[0m\u001b[1;33m(\u001b[0m\u001b[1;33m)\u001b[0m\u001b[1;33m\u001b[0m\u001b[1;33m\u001b[0m\u001b[0m\n\u001b[0;32m      3\u001b[0m \u001b[1;33mf\"\u001b[0m\u001b[1;33mrange is: \u001b[0m\u001b[1;33m{\u001b[0m\u001b[0mfirst_date\u001b[0m\u001b[1;33m}\u001b[0m\u001b[1;33m to \u001b[0m\u001b[1;33m{\u001b[0m\u001b[0mlast_date\u001b[0m\u001b[1;33m}\u001b[0m\u001b[1;33m\"\u001b[0m\u001b[1;33m\u001b[0m\u001b[1;33m\u001b[0m\u001b[0m\n",
      "\u001b[1;32mc:\\Users\\Hung Tsz Long\\AppData\\Local\\Programs\\Python\\Python312\\Lib\\site-packages\\pandas\\core\\generic.py\u001b[0m in \u001b[0;36m?\u001b[1;34m(self, name)\u001b[0m\n\u001b[0;32m   6295\u001b[0m             \u001b[1;32mand\u001b[0m \u001b[0mname\u001b[0m \u001b[1;32mnot\u001b[0m \u001b[1;32min\u001b[0m \u001b[0mself\u001b[0m\u001b[1;33m.\u001b[0m\u001b[0m_accessors\u001b[0m\u001b[1;33m\u001b[0m\u001b[1;33m\u001b[0m\u001b[0m\n\u001b[0;32m   6296\u001b[0m             \u001b[1;32mand\u001b[0m \u001b[0mself\u001b[0m\u001b[1;33m.\u001b[0m\u001b[0m_info_axis\u001b[0m\u001b[1;33m.\u001b[0m\u001b[0m_can_hold_identifiers_and_holds_name\u001b[0m\u001b[1;33m(\u001b[0m\u001b[0mname\u001b[0m\u001b[1;33m)\u001b[0m\u001b[1;33m\u001b[0m\u001b[1;33m\u001b[0m\u001b[0m\n\u001b[0;32m   6297\u001b[0m         \u001b[1;33m)\u001b[0m\u001b[1;33m:\u001b[0m\u001b[1;33m\u001b[0m\u001b[1;33m\u001b[0m\u001b[0m\n\u001b[0;32m   6298\u001b[0m             \u001b[1;32mreturn\u001b[0m \u001b[0mself\u001b[0m\u001b[1;33m[\u001b[0m\u001b[0mname\u001b[0m\u001b[1;33m]\u001b[0m\u001b[1;33m\u001b[0m\u001b[1;33m\u001b[0m\u001b[0m\n\u001b[1;32m-> 6299\u001b[1;33m         \u001b[1;32mreturn\u001b[0m \u001b[0mobject\u001b[0m\u001b[1;33m.\u001b[0m\u001b[0m__getattribute__\u001b[0m\u001b[1;33m(\u001b[0m\u001b[0mself\u001b[0m\u001b[1;33m,\u001b[0m \u001b[0mname\u001b[0m\u001b[1;33m)\u001b[0m\u001b[1;33m\u001b[0m\u001b[1;33m\u001b[0m\u001b[0m\n\u001b[0m",
      "\u001b[1;31mAttributeError\u001b[0m: 'DataFrame' object has no attribute 'OFFENCE_MONTH'"
     ]
    }
   ],
   "source": [
    "first_date = whale_stranding_in_oceania.OFFENCE_MONTH.min()\n",
    "last_date = whale_stranding_in_oceania.OFFENCE_MONTH.max()\n",
    "f\"range is: {first_date} to {last_date}\"\n"
   ]
  },
  {
   "cell_type": "markdown",
   "metadata": {},
   "source": [
    "That's not very nice to look at, so we can [use `strftime`](https://strftime.org/), which is one of the most spooky and powerful things in the python toolbox"
   ]
  },
  {
   "cell_type": "code",
   "execution_count": null,
   "metadata": {},
   "outputs": [],
   "source": [
    "date_format_pattern = \"%B, %Y\"\n",
    "earliest_date = datetime.strftime(whale_stranding_in_oceania.OFFENCE_MONTH.min(), date_format_pattern)\n",
    "latest_date = datetime.strftime(whale_stranding_in_oceania.OFFENCE_MONTH.max(), date_format_pattern)\n",
    "f\"range is: {earliest_date} to {latest_date}\"\n"
   ]
  },
  {
   "cell_type": "markdown",
   "metadata": {},
   "source": [
    "Which means that we can put those values into our graph title:"
   ]
  },
  {
   "cell_type": "code",
   "execution_count": null,
   "metadata": {},
   "outputs": [
    {
     "ename": "KeyError",
     "evalue": "'FACE_VALUE'",
     "output_type": "error",
     "traceback": [
      "\u001b[1;31m---------------------------------------------------------------------------\u001b[0m",
      "\u001b[1;31mKeyError\u001b[0m                                  Traceback (most recent call last)",
      "File \u001b[1;32mc:\\Users\\Hung Tsz Long\\AppData\\Local\\Programs\\Python\\Python312\\Lib\\site-packages\\pandas\\core\\indexes\\base.py:3805\u001b[0m, in \u001b[0;36mIndex.get_loc\u001b[1;34m(self, key)\u001b[0m\n\u001b[0;32m   3804\u001b[0m \u001b[38;5;28;01mtry\u001b[39;00m:\n\u001b[1;32m-> 3805\u001b[0m     \u001b[38;5;28;01mreturn\u001b[39;00m \u001b[38;5;28;43mself\u001b[39;49m\u001b[38;5;241;43m.\u001b[39;49m\u001b[43m_engine\u001b[49m\u001b[38;5;241;43m.\u001b[39;49m\u001b[43mget_loc\u001b[49m\u001b[43m(\u001b[49m\u001b[43mcasted_key\u001b[49m\u001b[43m)\u001b[49m\n\u001b[0;32m   3806\u001b[0m \u001b[38;5;28;01mexcept\u001b[39;00m \u001b[38;5;167;01mKeyError\u001b[39;00m \u001b[38;5;28;01mas\u001b[39;00m err:\n",
      "File \u001b[1;32mindex.pyx:167\u001b[0m, in \u001b[0;36mpandas._libs.index.IndexEngine.get_loc\u001b[1;34m()\u001b[0m\n",
      "File \u001b[1;32mindex.pyx:196\u001b[0m, in \u001b[0;36mpandas._libs.index.IndexEngine.get_loc\u001b[1;34m()\u001b[0m\n",
      "File \u001b[1;32mpandas\\\\_libs\\\\hashtable_class_helper.pxi:7081\u001b[0m, in \u001b[0;36mpandas._libs.hashtable.PyObjectHashTable.get_item\u001b[1;34m()\u001b[0m\n",
      "File \u001b[1;32mpandas\\\\_libs\\\\hashtable_class_helper.pxi:7089\u001b[0m, in \u001b[0;36mpandas._libs.hashtable.PyObjectHashTable.get_item\u001b[1;34m()\u001b[0m\n",
      "\u001b[1;31mKeyError\u001b[0m: 'FACE_VALUE'",
      "\nThe above exception was the direct cause of the following exception:\n",
      "\u001b[1;31mKeyError\u001b[0m                                  Traceback (most recent call last)",
      "Cell \u001b[1;32mIn[46], line 6\u001b[0m\n\u001b[0;32m      2\u001b[0m lower_bound \u001b[38;5;241m=\u001b[39m \u001b[38;5;241m0\u001b[39m\n\u001b[0;32m      3\u001b[0m upper_bound \u001b[38;5;241m=\u001b[39m \u001b[38;5;241m1000\u001b[39m\n\u001b[0;32m      5\u001b[0m plt\u001b[38;5;241m.\u001b[39mhist(\n\u001b[1;32m----> 6\u001b[0m     \u001b[43mwhale_stranding_in_oceania\u001b[49m\u001b[43m[\u001b[49m\u001b[38;5;124;43m\"\u001b[39;49m\u001b[38;5;124;43mFACE_VALUE\u001b[39;49m\u001b[38;5;124;43m\"\u001b[39;49m\u001b[43m]\u001b[49m, bins\u001b[38;5;241m=\u001b[39mnumber_of_bins, \u001b[38;5;28mrange\u001b[39m\u001b[38;5;241m=\u001b[39m(lower_bound, upper_bound)\n\u001b[0;32m      7\u001b[0m )\n\u001b[0;32m      8\u001b[0m plt\u001b[38;5;241m.\u001b[39mtitle(\n\u001b[0;32m      9\u001b[0m     \u001b[38;5;124mf\u001b[39m\u001b[38;5;124m\"\u001b[39m\u001b[38;5;124mNumber of fines of a given value issued between \u001b[39m\u001b[38;5;132;01m{\u001b[39;00mearliest_date\u001b[38;5;132;01m}\u001b[39;00m\u001b[38;5;124m & \u001b[39m\u001b[38;5;132;01m{\u001b[39;00mlatest_date\u001b[38;5;132;01m}\u001b[39;00m\u001b[38;5;124m\"\u001b[39m,\n\u001b[0;32m     10\u001b[0m     fontsize\u001b[38;5;241m=\u001b[39m\u001b[38;5;241m12\u001b[39m,\n\u001b[0;32m     11\u001b[0m )\n\u001b[0;32m     12\u001b[0m plt\u001b[38;5;241m.\u001b[39mxlabel(\u001b[38;5;124m\"\u001b[39m\u001b[38;5;124m$ value of fine\u001b[39m\u001b[38;5;124m\"\u001b[39m, fontsize\u001b[38;5;241m=\u001b[39m\u001b[38;5;241m10\u001b[39m)\n",
      "File \u001b[1;32mc:\\Users\\Hung Tsz Long\\AppData\\Local\\Programs\\Python\\Python312\\Lib\\site-packages\\pandas\\core\\frame.py:4102\u001b[0m, in \u001b[0;36mDataFrame.__getitem__\u001b[1;34m(self, key)\u001b[0m\n\u001b[0;32m   4100\u001b[0m \u001b[38;5;28;01mif\u001b[39;00m \u001b[38;5;28mself\u001b[39m\u001b[38;5;241m.\u001b[39mcolumns\u001b[38;5;241m.\u001b[39mnlevels \u001b[38;5;241m>\u001b[39m \u001b[38;5;241m1\u001b[39m:\n\u001b[0;32m   4101\u001b[0m     \u001b[38;5;28;01mreturn\u001b[39;00m \u001b[38;5;28mself\u001b[39m\u001b[38;5;241m.\u001b[39m_getitem_multilevel(key)\n\u001b[1;32m-> 4102\u001b[0m indexer \u001b[38;5;241m=\u001b[39m \u001b[38;5;28;43mself\u001b[39;49m\u001b[38;5;241;43m.\u001b[39;49m\u001b[43mcolumns\u001b[49m\u001b[38;5;241;43m.\u001b[39;49m\u001b[43mget_loc\u001b[49m\u001b[43m(\u001b[49m\u001b[43mkey\u001b[49m\u001b[43m)\u001b[49m\n\u001b[0;32m   4103\u001b[0m \u001b[38;5;28;01mif\u001b[39;00m is_integer(indexer):\n\u001b[0;32m   4104\u001b[0m     indexer \u001b[38;5;241m=\u001b[39m [indexer]\n",
      "File \u001b[1;32mc:\\Users\\Hung Tsz Long\\AppData\\Local\\Programs\\Python\\Python312\\Lib\\site-packages\\pandas\\core\\indexes\\base.py:3812\u001b[0m, in \u001b[0;36mIndex.get_loc\u001b[1;34m(self, key)\u001b[0m\n\u001b[0;32m   3807\u001b[0m     \u001b[38;5;28;01mif\u001b[39;00m \u001b[38;5;28misinstance\u001b[39m(casted_key, \u001b[38;5;28mslice\u001b[39m) \u001b[38;5;129;01mor\u001b[39;00m (\n\u001b[0;32m   3808\u001b[0m         \u001b[38;5;28misinstance\u001b[39m(casted_key, abc\u001b[38;5;241m.\u001b[39mIterable)\n\u001b[0;32m   3809\u001b[0m         \u001b[38;5;129;01mand\u001b[39;00m \u001b[38;5;28many\u001b[39m(\u001b[38;5;28misinstance\u001b[39m(x, \u001b[38;5;28mslice\u001b[39m) \u001b[38;5;28;01mfor\u001b[39;00m x \u001b[38;5;129;01min\u001b[39;00m casted_key)\n\u001b[0;32m   3810\u001b[0m     ):\n\u001b[0;32m   3811\u001b[0m         \u001b[38;5;28;01mraise\u001b[39;00m InvalidIndexError(key)\n\u001b[1;32m-> 3812\u001b[0m     \u001b[38;5;28;01mraise\u001b[39;00m \u001b[38;5;167;01mKeyError\u001b[39;00m(key) \u001b[38;5;28;01mfrom\u001b[39;00m \u001b[38;5;21;01merr\u001b[39;00m\n\u001b[0;32m   3813\u001b[0m \u001b[38;5;28;01mexcept\u001b[39;00m \u001b[38;5;167;01mTypeError\u001b[39;00m:\n\u001b[0;32m   3814\u001b[0m     \u001b[38;5;66;03m# If we have a listlike key, _check_indexing_error will raise\u001b[39;00m\n\u001b[0;32m   3815\u001b[0m     \u001b[38;5;66;03m#  InvalidIndexError. Otherwise we fall through and re-raise\u001b[39;00m\n\u001b[0;32m   3816\u001b[0m     \u001b[38;5;66;03m#  the TypeError.\u001b[39;00m\n\u001b[0;32m   3817\u001b[0m     \u001b[38;5;28mself\u001b[39m\u001b[38;5;241m.\u001b[39m_check_indexing_error(key)\n",
      "\u001b[1;31mKeyError\u001b[0m: 'FACE_VALUE'"
     ]
    }
   ],
   "source": [
    "number_of_bins = 100\n",
    "lower_bound = 0\n",
    "upper_bound = 1000\n",
    "\n",
    "plt.hist(\n",
    "    whale_stranding_in_oceania[\"FACE_VALUE\"], bins=number_of_bins, range=(lower_bound, upper_bound)\n",
    ")\n",
    "plt.title(\n",
    "    f\"Number of fines of a given value issued between {earliest_date} & {latest_date}\",\n",
    "    fontsize=12,\n",
    ")\n",
    "plt.xlabel(\"$ value of fine\", fontsize=10)\n",
    "plt.ylabel(\"Count\", fontsize=10)\n",
    "plt.grid(True)\n",
    "plt.show()\n"
   ]
  },
  {
   "cell_type": "markdown",
   "metadata": {
    "slideshow": {
     "slide_type": "slide"
    }
   },
   "source": [
    "We're grouping the fines by month, and then adding up the groups. Pandas' `groupby` feature allows for all kinds of clever stuff like that.\n",
    "\n",
    "I'm not going to explain `groupby` here, just be aware that it exists, and when you need it, we can go over it again."
   ]
  },
  {
   "cell_type": "code",
   "execution_count": null,
   "metadata": {
    "slideshow": {
     "slide_type": "subslide"
    }
   },
   "outputs": [],
   "source": [
    "income = whale_stranding_in_oceania[[\"OFFENCE_MONTH\", \"FACE_VALUE\"]].groupby(\"OFFENCE_MONTH\").sum()\n",
    "\n",
    "plt.xkcd()\n",
    "plt.plot(income, \"x-\")\n",
    "plt.title(\"Monthly income from fines\", fontsize=18)\n",
    "plt.xlabel(\"Date\", fontsize=26)\n",
    "plt.ylabel(\"$ Value\", fontsize=26)\n",
    "plt.grid(True)\n",
    "plt.show()\n"
   ]
  },
  {
   "cell_type": "code",
   "execution_count": null,
   "metadata": {
    "slideshow": {
     "slide_type": "skip"
    }
   },
   "outputs": [],
   "source": [
    "matplotlib.rcParams.update(\n",
    "    saved_style_state\n",
    ")  # revert to regular matplotlib styles, not xkcd\n"
   ]
  },
  {
   "cell_type": "code",
   "execution_count": null,
   "metadata": {},
   "outputs": [],
   "source": []
  },
  {
   "cell_type": "markdown",
   "metadata": {
    "slideshow": {
     "slide_type": "slide"
    }
   },
   "source": [
    "I don't expect you to learn this this week, I just want to give you a taste of what can be done, quite simply, with pandas and matplotlib.\n",
    "\n",
    "# some tricky tricks\n",
    "\n",
    "Say you have a _lot_ of rows, running things on them takes a long time. You can test on a subset of that and then come bakc to the full dataframe once you are more sure that it works.\n",
    "\n",
    "To do this we can use python slices in combination with the dataframe's `.loc` property."
   ]
  },
  {
   "cell_type": "code",
   "execution_count": null,
   "metadata": {},
   "outputs": [],
   "source": [
    "ss = whale_stranding_in_oceania.loc[:5]\n"
   ]
  },
  {
   "cell_type": "markdown",
   "metadata": {
    "slideshow": {
     "slide_type": "slide"
    }
   },
   "source": [
    "Let's say you want to apply a function to each row in a dataframe, and save the result as a new column in the dataframe. This is where `apply` come in handy."
   ]
  },
  {
   "cell_type": "code",
   "execution_count": null,
   "metadata": {
    "slideshow": {
     "slide_type": "subslide"
    }
   },
   "outputs": [],
   "source": [
    "ss[\"day_from_lambda\"] = ss.apply(lambda x: x.OFFENCE_MONTH.day, axis=1)\n",
    "ss.head(2)\n"
   ]
  },
  {
   "cell_type": "markdown",
   "metadata": {
    "slideshow": {
     "slide_type": "subslide"
    }
   },
   "source": [
    "Above is equivalent to below, it's up to you to decide what is more readable."
   ]
  },
  {
   "cell_type": "code",
   "execution_count": null,
   "metadata": {
    "slideshow": {
     "slide_type": "-"
    }
   },
   "outputs": [],
   "source": [
    "def my_f(x):\n",
    "    return x.OFFENCE_MONTH.day\n",
    "\n",
    "\n",
    "ss[\"day_from_function\"] = ss.apply(my_f, axis=1)\n",
    "ss.head(1)\n"
   ]
  },
  {
   "cell_type": "markdown",
   "metadata": {},
   "source": [
    "Scroll all the way to the right to see the new column that we've created. Both of these ways of doing this make dan-numbers. What if we wanted to get day names? That's much easier to graph. W can use `strftime` again:"
   ]
  },
  {
   "cell_type": "code",
   "execution_count": null,
   "metadata": {},
   "outputs": [],
   "source": [
    "def my_f(x):\n",
    "    return datetime.strftime(x.OFFENCE_MONTH, \"%A\")\n",
    "\n",
    "\n",
    "ss[\"nice_day\"] = ss.apply(my_f, axis=1)\n",
    "ss.head(1)\n"
   ]
  },
  {
   "cell_type": "markdown",
   "metadata": {},
   "source": [
    "Then once we're confident that it works, we can switch back from the limited part of the dataframe to the full dataframe:"
   ]
  },
  {
   "cell_type": "code",
   "execution_count": null,
   "metadata": {},
   "outputs": [],
   "source": [
    "def my_f(x):\n",
    "    return datetime.strftime(x.OFFENCE_MONTH, \"%A\")\n",
    "\n",
    "\n",
    "whale_stranding_in_oceania[\"nice_day\"] = whale_stranding_in_oceania.apply(my_f, axis=1)\n",
    "whale_stranding_in_oceania.nice_day.value_counts().plot(kind=\"bar\")\n"
   ]
  },
  {
   "cell_type": "markdown",
   "metadata": {
    "slideshow": {
     "slide_type": "slide"
    }
   },
   "source": [
    "And we can see that most of these fines are booked on a Sunday, which is a real _hmm_ moment 🤔\n",
    "\n",
    "This would be the kind of question that it'd be good to explore in your project.\n",
    "\n",
    "---\n",
    "\n",
    "How do we tell the computer to treat _facade_ and _fašade_ the same? What about _University of new south wales_, _University of New South Wales_, _University of NSW_, _UNSW_, _New-south_?\n",
    "\n",
    "## The answer is _folding_\n",
    "\n",
    "_(This is a \"pattern\")_"
   ]
  },
  {
   "cell_type": "code",
   "execution_count": null,
   "metadata": {
    "slideshow": {
     "slide_type": "slide"
    }
   },
   "outputs": [],
   "source": [
    "def fold(given):\n",
    "    \"\"\"Return canonical versions of inputs.\"\"\"\n",
    "\n",
    "    # Use canonical variables so that you can define once, use many times.\n",
    "    UNSW_canonical = \"uni of stairs\"\n",
    "    ben_name_cannonical = \"Ben Doherty\"\n",
    "\n",
    "    # dictionary of input:output pairs\n",
    "    folds = {\n",
    "        \"University of new south wales\": UNSW_canonical,\n",
    "        \"University of New South Wales\": UNSW_canonical,\n",
    "        \"University of NSW\": UNSW_canonical,\n",
    "        \"UNSW\": UNSW_canonical,\n",
    "        \"New-south\": UNSW_canonical,\n",
    "        \"BDoh\": ben_name_cannonical,\n",
    "        \"Benny\": ben_name_cannonical,\n",
    "        \"Mr Dockerty\": ben_name_cannonical,\n",
    "        \"Oi, Dickhead!\": ben_name_cannonical,\n",
    "    }\n",
    "\n",
    "    #     return folds[given] # needs a defensive part, but ommited for clarity.\n",
    "    default_value = given\n",
    "    return folds.get(given, default_value)\n",
    "\n",
    "\n",
    "print(fold(\"New-south\"))\n",
    "print(fold(\"BDoh\"))\n"
   ]
  },
  {
   "cell_type": "markdown",
   "metadata": {
    "slideshow": {
     "slide_type": "slide"
    }
   },
   "source": [
    "So you could use this function in an `apply` to make a new column on cleaned up values.\n",
    "\n",
    "# _fin_"
   ]
  }
 ],
 "metadata": {
  "kernelspec": {
   "display_name": "Python 3.10.5 64-bit (windows store)",
   "language": "python",
   "name": "python3"
  },
  "language_info": {
   "codemirror_mode": {
    "name": "ipython",
    "version": 3
   },
   "file_extension": ".py",
   "mimetype": "text/x-python",
   "name": "python",
   "nbconvert_exporter": "python",
   "pygments_lexer": "ipython3",
   "version": "3.12.3"
  },
  "vscode": {
   "interpreter": {
    "hash": "c8476df7f795fd1f4977a4526e3f7a881ff6c8ddf4dfdde2439ce5eb695d0765"
   }
  }
 },
 "nbformat": 4,
 "nbformat_minor": 1
}
